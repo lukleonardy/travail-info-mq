{
 "cells": [
  {
   "cell_type": "markdown",
   "metadata": {},
   "source": [
    "\n",
    "Devoir PHYS-F-302, année académique 2019-2020\n",
    "\n",
    "\n",
    "Soit l'équation différentielle linéaire à coefficients constants:\n",
    "\n",
    "$$\\begin{align}\n",
    "\\frac{d^4 f}{dx^4}-5 \\frac{d^2 f}{dx^2}+ 4f = 0\\hspace{5cm} (1)\n",
    "\\end{align}$$\n",
    "où $f$ est une fonction de la variable $x\\in [0\\ 1]$. Par ailleurs, on a les conditions aux bords suivantes:\n",
    "\n",
    "$$\n",
    "f(0)=a, f'(0)=b, f(1)=c, f'(1)=d \\hspace{3cm} (2)\n",
    "$$"
   ]
  },
  {
   "cell_type": "markdown",
   "metadata": {},
   "source": [
    "Question 1 (2 points)\n",
    "\n",
    "Quelle est la solution générale de l'équation (1)?"
   ]
  },
  {
   "cell_type": "markdown",
   "metadata": {},
   "source": [
    "On pose que la solution f est une combinaison linéaire du type $f=\\sum_{i=1}^{4} C_i.exp(k_i.x)$.  En remplaçant dans l'équantion on obtient donc une équation du 4eme degré en k et on obtient la solution générale suivante :\n",
    "$$ f(x) = C_1.e^{x} + C_2.e^{-x}+C_3.e^{2x}+C_4.e^{-2x}$$\n",
    "\n"
   ]
  },
  {
   "cell_type": "markdown",
   "metadata": {},
   "source": [
    "Question 2 (3 points)\n",
    "\n",
    "Ecrire un code en python qui permet d'évaluer les constantes d'intégration de la solution générale en termes des conditions aux bords (2). Pour cette question vous pouvez vous servir de n'importe quelle routine fournie par numpy."
   ]
  },
  {
   "cell_type": "markdown",
   "metadata": {},
   "source": [
    "Si on applique les conditons au bords à notre fonction, on obtient 4 conditions qui forment un système d'équation linéaire équivalent à $M.v=w$ avec $v=(C_1,C_2,C_3,C_4)$ et $w=(a,b,c,d)$ et $M$ la matrice qui dépend des conditions.  Python permet de résoudre un tel système de manière très simple: "
   ]
  },
  {
   "cell_type": "code",
   "execution_count": 56,
   "metadata": {},
   "outputs": [],
   "source": [
    "from matplotlib import pyplot\n",
    "import numpy \n",
    "%matplotlib inline\n",
    "from matplotlib import rcParams\n",
    "rcParams['font.family'] = 'serif'\n",
    "rcParams['font.size'] = 16"
   ]
  },
  {
   "cell_type": "code",
   "execution_count": 57,
   "metadata": {},
   "outputs": [],
   "source": [
    "def resol_consantes (a,b,c,d) : \n",
    "\n",
    "\n",
    "    M = np.array([[1,1,1,1], [1,-1,2,-2], [np.exp(1),np.exp(-1),np.exp(2),np.exp(-2)],\\\n",
    "              [np.exp(1),- np.exp(-1),2*np.exp(2),-2*np.exp(-2)]])\n",
    "    w = np.array([a,b,c,d])\n",
    "\n",
    "    constantes = np.linalg.solve(M, w)\n",
    "\n",
    "    return constantes"
   ]
  },
  {
   "cell_type": "markdown",
   "metadata": {},
   "source": [
    "Question 3 (2 points)\n",
    "\n",
    "Que vaut la solution de l'équation (1) pour $a=0, b=0, c=1, d=-1$. Représentez cette fonction sur un graphique."
   ]
  },
  {
   "cell_type": "markdown",
   "metadata": {},
   "source": [
    "Il suffit d'appliquer la question 2 à nos données : "
   ]
  },
  {
   "cell_type": "code",
   "execution_count": 58,
   "metadata": {},
   "outputs": [],
   "source": [
    "C = resol_consantes (0,0,1,-1)"
   ]
  },
  {
   "cell_type": "code",
   "execution_count": 59,
   "metadata": {},
   "outputs": [
    {
     "data": {
      "text/plain": [
       "[<matplotlib.lines.Line2D at 0x1119b105a48>]"
      ]
     },
     "execution_count": 59,
     "metadata": {},
     "output_type": "execute_result"
    },
    {
     "data": {
      "image/png": "[encoded data removed]",
      "text/plain": [
       "<Figure size 432x288 with 1 Axes>"
      ]
     },
     "metadata": {
      "needs_background": "light"
     },
     "output_type": "display_data"
    }
   ],
   "source": [
    "#plot\n",
    "binwidth=0.001\n",
    "pyplot.xlim(0,1)\n",
    "bins=numpy.arange(0.,1., binwidth)\n",
    "\n",
    "xc = bins[:-1] + binwidth/2\n",
    "pyplot.plot(xc, C[0]*np.exp(xc) + C[1]*np.exp(- xc) + C[2]*np.exp(2*xc) + C[3]*np.exp(-2*xc)  , lw=2, color='green')\n"
   ]
  },
  {
   "cell_type": "markdown",
   "metadata": {},
   "source": [
    "Question 4 (6 points)\n",
    "\n",
    "Résoudre l'équation (1) avec la méthode Gauss-Seidel vue dans le cours. Combien d'itérations sont nécessaires? Comparer votre solution avec la solution obtenue à la question 3 (graphiquement et en mesurant la norme L2 de la différence)."
   ]
  },
  {
   "cell_type": "markdown",
   "metadata": {},
   "source": [
    "On commence par discrétiser notre équation : on connait la discrétisation centrale de la dérivée segonde : \n",
    "$$\\frac{p_{i+1} -2 p_i +p_{i-1}}{\\Delta x^2}$$\n",
    "\n",
    "on la réaplique à elle-même (à chaque terme) pour déterminer la dérivée 4ème : \n",
    "$$\\frac{p_{i+2}-4p_{i+1}+6p_i-4p_{i-1}+p_{i-2}}{\\Delta x^4}$$\n",
    "\n",
    "En dévellopant notre équation, on trouve la relation suivante : \n",
    "\n",
    "$$p_i.\\nu = (-p_{i-2} - p_{i+2} - \\mu.p_{i-1} -\\mu.p_{i+1})$$\n",
    "\n",
    "où $\\nu =(6+10\\Delta x^2 + 4\\Delta x^4)$ et $\\mu = (-4-5\\Delta x^2)$ \n",
    "\n",
    "On a posé ces variables afin de pouvoir écrire notre code de manière plus lisible et donc sans se tromper.\n",
    "\n",
    "Passons mainteant à l'algorythme de Gauss-Seidel : "
   ]
  },
  {
   "cell_type": "code",
   "execution_count": 60,
   "metadata": {},
   "outputs": [],
   "source": [
    "def L2_norm(p, pn):\n",
    "    return numpy.sqrt(numpy.sum((p - pn)**2)/numpy.sum(pn**2))"
   ]
  },
  {
   "cell_type": "code",
   "execution_count": 61,
   "metadata": {},
   "outputs": [],
   "source": [
    "def solution_gauss_seidel(dx,p0, maxiter, rtol):\n",
    "    \n",
    "    p = p0.copy()\n",
    "    nu = 6+10*dx**2+4*dx**4\n",
    "    mu = -4-5*dx**2\n",
    "    diff = rtol + 1.0  # on pose cela pour pouvoir rentrer dans la boucle\n",
    "    ite = 0  # nombre d'itérations\n",
    "    \n",
    "    while diff > rtol and ite < maxiter:\n",
    "        pn = p.copy()\n",
    "        for i in range(2,nx-2):\n",
    "            p[i] = (1/nu)*(-p[i-2]-mu*p[i-1]-mu*p[i+1]-p[i+2])\n",
    "            \n",
    "        #conditions au bord \n",
    "        p[0]=0\n",
    "        p[1]=0\n",
    "        p[-1]=1\n",
    "        p[-2]=p[-1]+dx\n",
    "        \n",
    "        #mise à jour de diff\n",
    "        diff = L2_norm(p, pn)\n",
    "        ite += 1\n",
    "    return p, ite, diff"
   ]
  },
  {
   "cell_type": "code",
   "execution_count": 62,
   "metadata": {},
   "outputs": [
    {
     "name": "stderr",
     "output_type": "stream",
     "text": [
      "C:\\Users\\luel7\\anaconda3\\lib\\site-packages\\ipykernel_launcher.py:2: RuntimeWarning: divide by zero encountered in double_scalars\n",
      "  \n"
     ]
    }
   ],
   "source": [
    "#on pose nos variables et on lance l'algo :\n",
    "nx = 101\n",
    "dx = 1.0/(nx-1)\n",
    "\n",
    "p0 = numpy.zeros(nx)\n",
    "\n",
    "pf, iterations, last_diff = solution_gauss_seidel(dx,p0, 3000000, 1e-8)\n"
   ]
  },
  {
   "cell_type": "markdown",
   "metadata": {},
   "source": [
    "afin de vérifier notre résultat, on va créer une array nous donnant la valeur de $f(x)=p_{exact}$ à chacun des points x évalués dans notre algo afin de pouvoir comparer notre réponse et la solution exacte :"
   ]
  },
  {
   "cell_type": "code",
   "execution_count": 63,
   "metadata": {},
   "outputs": [],
   "source": [
    "grid = numpy.linspace(0., 1., nx) \n",
    "\n",
    "p_exact = numpy.zeros(nx)\n",
    "p_exact[:]= C[0]*np.exp(grid[:]) + C[1]*np.exp(- grid[:]) + C[2]*np.exp(2*grid[:]) + C[3]*np.exp(-2*grid[:])\n"
   ]
  },
  {
   "cell_type": "code",
   "execution_count": 65,
   "metadata": {},
   "outputs": [
    {
     "name": "stdout",
     "output_type": "stream",
     "text": [
      "nombre d'itérations 2531622\n",
      "dernier L2_norm 9.999990576239512e-09\n"
     ]
    },
    {
     "data": {
      "image/png": "[encoded data removed]",
      "text/plain": [
       "<Figure size 432x288 with 1 Axes>"
      ]
     },
     "metadata": {
      "needs_background": "light"
     },
     "output_type": "display_data"
    }
   ],
   "source": [
    "x = numpy.linspace(0,1,nx)\n",
    "pyplot.plot(x,pf,color ='red')\n",
    "pyplot.plot(x,p_exact,color ='green')\n",
    "\n",
    "print (\"nombre d'itérations\", iterations) \n",
    "print (\"dernier L2_norm\", last_diff)"
   ]
  },
  {
   "cell_type": "markdown",
   "metadata": {},
   "source": [
    "On voit bien que la solution trouvée par Gauss-Seidel (en rouge) coïncide bien avec la solution exacte (en vert).  \n",
    "On va maintenant regarder ce que nous donne la L2_norm entre les 2:"
   ]
  },
  {
   "cell_type": "code",
   "execution_count": 66,
   "metadata": {},
   "outputs": [
    {
     "name": "stdout",
     "output_type": "stream",
     "text": [
      "L2_norm entre solution exacte et Gauss Seidel 0.005822658203037972\n"
     ]
    }
   ],
   "source": [
    "erreur = L2_norm(pf, p_exact)\n",
    "print(\"L2_norm entre solution exacte et Gauss Seidel\",erreur)"
   ]
  },
  {
   "cell_type": "markdown",
   "metadata": {},
   "source": [
    "Question 5 (7 points)\n",
    "\n",
    "Résoudre l'équation (1) avec la méthode du gradient conjugué vue dans le cours. Combien d'itérations sont nécessaires? Comparer votre solution avec la solution obtenue à la question 3 (graphiquement et en mesurant la norme L2 de la différence)."
   ]
  },
  {
   "cell_type": "markdown",
   "metadata": {},
   "source": [
    "Si on réécrit notre discrétisation précédente de manière un peu différente, on a : \n",
    "$$ p_i.\\nu +p_{i-2} + p_{i+2} + \\mu.p_{i-1} +\\mu.p_{i+1} = 0  $$\n",
    "\n",
    "On peut donc interpreter cette relation comme $A.p=b=0$ avec p un vecteur de taille nx et A une matrice nx*nx.\n",
    "\n",
    "Dès lors on peut appliquer l'algorythme du gradient conjugué : \n",
    "\n",
    "    "
   ]
  },
  {
   "cell_type": "code",
   "execution_count": 67,
   "metadata": {},
   "outputs": [],
   "source": [
    "def l2_norm(p, pk):\n",
    "    \n",
    "    return numpy.sqrt(numpy.sum((p - pk)**2)/numpy.sum(pk**2))"
   ]
  },
  {
   "cell_type": "code",
   "execution_count": 68,
   "metadata": {},
   "outputs": [],
   "source": [
    "def solution_conjugate_gradient(p0, b, dx, maxiter, rtol):\n",
    "    \n",
    "    nu = 6+10*dx**2+4*dx**4\n",
    "    mu = -4-5*dx**2                            \n",
    "    def A(p):\n",
    "        return nu*p[2:-2]+p[4:]+p[0:-4]+mu*p[3:-1]+mu*p[1:-3]\n",
    "    \n",
    "    p = p0.copy() \n",
    "    p[0]=0     #conditions aux bords\n",
    "    p[1]=0\n",
    "    p[-1]=1\n",
    "    p[-2]=p[-1]+dx \n",
    "\n",
    "    \n",
    "    r = numpy.zeros_like(p)  # résidu initial\n",
    "    Ad = numpy.zeros_like(p)  # afin de garder A.d\n",
    "   \n",
    "    diff = rtol + 1  # on pose cela pour lancer la boucle\n",
    "    ite = 0  # nombre d'itérations\n",
    "    r[2:-2] = b - A(p) #définition du résidu initial avec les coordonnées restantes qui sont nulles\n",
    "    d = r.copy() #le premier changement de direction est le résidu\n",
    "    \n",
    "    while diff > rtol and ite < maxiter:\n",
    "        \n",
    "        \n",
    "        pk = p.copy()\n",
    "        rk = r.copy()\n",
    "        Ad[2:-2] = A(d)\n",
    "        alpha = numpy.sum(r * r) / numpy.sum(d * Ad)\n",
    "        p = pk + alpha * d\n",
    "        r = rk - alpha * Ad\n",
    "        beta = numpy.sum(r * r) / numpy.sum(rk * rk)\n",
    "        d = r + beta * d\n",
    "            \n",
    "        #mise à jour de diff\n",
    "        diff = l2_norm(p, pk)\n",
    "        ite += 1\n",
    "        \n",
    "    return p, ite, diff\n",
    "    "
   ]
  },
  {
   "cell_type": "code",
   "execution_count": 69,
   "metadata": {},
   "outputs": [
    {
     "name": "stdout",
     "output_type": "stream",
     "text": [
      "itérations 297\n",
      "dernier l2_norm 8.953250687073168e-10\n"
     ]
    }
   ],
   "source": [
    "#on pose les variables et on lance l'algo :\n",
    "nx = 101\n",
    "dx = 1.0/(nx-1)\n",
    "b=0\n",
    "maxiter = 20000000\n",
    "rtol =1e-9\n",
    "p0 = numpy.zeros(nx)\n",
    "\n",
    "\n",
    "pfinal, ites, last_difference = solution_conjugate_gradient(p0, b, dx, maxiter, rtol)\n",
    "print(\"itérations\",ites)\n",
    "print(\"dernier l2_norm\",last_difference)"
   ]
  },
  {
   "cell_type": "code",
   "execution_count": 70,
   "metadata": {},
   "outputs": [
    {
     "name": "stdout",
     "output_type": "stream",
     "text": [
      "itérations 297\n",
      "dernier l2_norm 8.953250687073168e-10\n"
     ]
    },
    {
     "data": {
      "image/png": "[encoded data removed]",
      "text/plain": [
       "<Figure size 432x288 with 1 Axes>"
      ]
     },
     "metadata": {
      "needs_background": "light"
     },
     "output_type": "display_data"
    }
   ],
   "source": [
    "pyplot.plot(x,pfinal,color ='blue')\n",
    "pyplot.plot(x,p_exact,color ='green')\n",
    "\n",
    "print(\"itérations\",ites)\n",
    "print(\"dernier l2_norm\",last_difference)"
   ]
  },
  {
   "cell_type": "markdown",
   "metadata": {},
   "source": [
    "on voit la solution exacte en vert et celle du GC en bleue."
   ]
  },
  {
   "cell_type": "code",
   "execution_count": 71,
   "metadata": {},
   "outputs": [
    {
     "name": "stdout",
     "output_type": "stream",
     "text": [
      "l2_norm entre solution exacte et GC 0.005160195476445877\n"
     ]
    }
   ],
   "source": [
    "erreur =  l2_norm(pfinal, p_exact)\n",
    "print (\"l2_norm entre solution exacte et GC\",erreur)"
   ]
  },
  {
   "cell_type": "markdown",
   "metadata": {},
   "source": [
    "On observe donc que pour un résultat de précision similaire, l'algo de Gauss-Seidel aura pris environ 2 500 000 itérations tandis que l'algo du gradient conjugué seulement 300."
   ]
  },
  {
   "cell_type": "code",
   "execution_count": null,
   "metadata": {},
   "outputs": [],
   "source": []
  }
 ],
 "metadata": {
  "kernelspec": {
   "display_name": "Python 3",
   "language": "python",
   "name": "python3"
  },
  "language_info": {
   "codemirror_mode": {
    "name": "ipython",
    "version": 3
   },
   "file_extension": ".py",
   "mimetype": "text/x-python",
   "name": "python",
   "nbconvert_exporter": "python",
   "pygments_lexer": "ipython3",
   "version": "3.7.6"
  }
 },
 "nbformat": 4,
 "nbformat_minor": 4
}
