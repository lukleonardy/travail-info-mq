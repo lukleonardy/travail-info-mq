{
 "cells": [
  {
   "cell_type": "code",
   "execution_count": 1,
   "metadata": {},
   "outputs": [],
   "source": [
    "import numpy\n",
    "from matplotlib import pyplot\n",
    "%matplotlib inline"
   ]
  },
  {
   "cell_type": "code",
   "execution_count": 2,
   "metadata": {},
   "outputs": [],
   "source": [
    "#Paramètres pour l'affichage des graphes\n",
    "pyplot.rcParams['font.family'] = 'serif'\n",
    "pyplot.rcParams['font.size'] = 16"
   ]
  },
  {
   "cell_type": "code",
   "execution_count": 3,
   "metadata": {},
   "outputs": [],
   "source": [
    "#Helper, quelques fonctions qui nous seront utiles pour nos méthodes\n",
    "import numpy\n",
    "from matplotlib import pyplot, cm\n",
    "from mpl_toolkits import mplot3d\n",
    "\n",
    "\n",
    "def laplace_solution(x, y, Lx, Ly):\n",
    "    \"\"\"\n",
    "  \n",
    "    x : numpy.ndarray\n",
    "        The gridline locations in the x direction\n",
    "        as a 1D array of floats.\n",
    "    y : numpy.ndarray\n",
    "        The gridline locations in the y direction\n",
    "        as a 1D array of floats.\n",
    "    Lx : float\n",
    "        Length of the domain in the x direction.\n",
    "    Ly : float\n",
    "        Length of the domain in the y direction.\n",
    "    Returns\n",
    "    -------\n",
    "    p : numpy.ndarray\n",
    "        The analytical solution as a 2D array of floats.\n",
    "    \"\"\"\n",
    "    X, Y = numpy.meshgrid(x, y)\n",
    "    p = (numpy.sinh(1.5 * numpy.pi * Y / Ly) /\n",
    "         numpy.sinh(1.5 * numpy.pi * Ly / Lx) *\n",
    "         numpy.sin(1.5 * numpy.pi * X / Lx))\n",
    "    return p\n",
    "\n",
    "\n",
    "def poisson_solution(x, y, Lx, Ly):\n",
    "    \"\"\"\n",
    "    Computes and returns the analytical solution of the Poisson equation\n",
    "    on a given two-dimensional Cartesian grid.\n",
    "    Parameters\n",
    "    ----------\n",
    "    x : numpy.ndarray\n",
    "        The gridline locations in the x direction\n",
    "        as a 1D array of floats.\n",
    "    y : numpy.ndarray\n",
    "        The gridline locations in the y direction\n",
    "        as a 1D array of floats.\n",
    "    Lx : float\n",
    "        Length of the domain in the x direction.\n",
    "    Ly : float\n",
    "        Length of the domain in the y direction.\n",
    "    Returns\n",
    "    -------\n",
    "    p : numpy.ndarray\n",
    "        The analytical solution as a 2D array of floats.\n",
    "    \"\"\"\n",
    "    X, Y = numpy.meshgrid(x, y)\n",
    "    p = numpy.sin(numpy.pi * X / Lx) * numpy.cos(numpy.pi * Y / Ly)\n",
    "    return p\n",
    "\n",
    "\n",
    "def l2_norm(p, p_ref):\n",
    "    \"\"\"\n",
    "    Computes and returns the relative L2-norm of the difference\n",
    "    between a solution p and a reference solution p_ref.\n",
    "    If L2(p_ref) = 0, the function simply returns\n",
    "    the L2-norm of the difference.\n",
    "    Parameters\n",
    "    ----------\n",
    "    p : numpy.ndarray\n",
    "        The solution as an array of floats.\n",
    "    p_ref : numpy.ndarray\n",
    "        The reference solution as an array of floats.\n",
    "    Returns\n",
    "    -------\n",
    "    diff : float\n",
    "        The (relative) L2-norm of the difference.\n",
    "    \"\"\"\n",
    "    l2_diff = numpy.sqrt(numpy.sum((p - p_ref)**2))\n",
    "    l2_ref = numpy.sqrt(numpy.sum(p_ref**2))\n",
    "    if l2_ref > 1e-12:\n",
    "        return l2_diff / l2_ref\n",
    "    return l2_diff\n",
    "\n",
    "\n",
    "def poisson_2d_jacobi(p0, b, dx, dy, maxiter=20000, rtol=1e-6):\n",
    "    \"\"\"\n",
    "    Solves the 2D Poisson equation for a given forcing term\n",
    "    using Jacobi relaxation method.\n",
    "    The function assumes Dirichlet boundary conditions with value zero.\n",
    "    The exit criterion of the solver is based on the relative L2-norm\n",
    "    of the solution difference between two consecutive iterations.\n",
    "    Parameters\n",
    "    ----------\n",
    "    p0 : numpy.ndarray\n",
    "        The initial solution as a 2D array of floats.\n",
    "    b : numpy.ndarray\n",
    "        The forcing term as a 2D array of floats.\n",
    "    dx : float\n",
    "        Grid spacing in the x direction.\n",
    "    dy : float\n",
    "        Grid spacing in the y direction.\n",
    "    maxiter : integer, optional\n",
    "        Maximum number of iterations to perform;\n",
    "        default: 20000.\n",
    "    rtol : float, optional\n",
    "        Relative tolerance for convergence;\n",
    "        default: 1e-6.\n",
    "    Returns\n",
    "    -------\n",
    "    p : numpy.ndarray\n",
    "        The solution after relaxation as a 2D array of floats.\n",
    "    ite : integer\n",
    "        The number of iterations performed.\n",
    "    conv : list\n",
    "        The convergence history as a list of floats.\n",
    "    \"\"\"\n",
    "    p = p0.copy()\n",
    "    conv = []  # convergence history\n",
    "    diff = rtol + 1.0  # initial difference\n",
    "    ite = 0  # iteration index\n",
    "    while diff > rtol and ite < maxiter:\n",
    "        pn = p.copy()\n",
    "        p[1:-1, 1:-1] = (((pn[1:-1, :-2] + pn[1:-1, 2:]) * dy**2 +\n",
    "                          (pn[:-2, 1:-1] + pn[2:, 1:-1]) * dx**2 -\n",
    "                          b[1:-1, 1:-1] * dx**2 * dy**2) /\n",
    "                         (2.0 * (dx**2 + dy**2)))\n",
    "        # Dirichlet boundary conditions at automatically enforced.\n",
    "        # Compute and record the relative L2-norm of the difference.\n",
    "        diff = l2_norm(p, pn)\n",
    "        conv.append(diff)\n",
    "        ite += 1\n",
    "    return p, ite, conv\n",
    "\n",
    "\n",
    "def plot_3d(x, y, p, label='$z$', elev=30.0, azim=45.0):\n",
    "    \"\"\"\n",
    "    Creates a Matplotlib figure with a 3D surface plot of the scalar field p.\n",
    "    Parameters\n",
    "    ----------\n",
    "    x : numpy.ndarray\n",
    "        Gridline locations in the x direction as a 1D array of floats.\n",
    "    y : numpy.ndarray\n",
    "        Gridline locations in the y direction as a 1D array of floats.\n",
    "    p : numpy.ndarray\n",
    "        Scalar field to plot as a 2D array of floats.\n",
    "    label : string, optional\n",
    "        Axis label to use in the third direction;\n",
    "        default: 'z'.\n",
    "    elev : float, optional\n",
    "        Elevation angle in the z plane;\n",
    "        default: 30.0.\n",
    "    azim : float, optional\n",
    "        Azimuth angle in the x,y plane;\n",
    "        default: 45.0.\n",
    "    \"\"\"\n",
    "    fig = pyplot.figure(figsize=(8.0, 6.0))\n",
    "    ax = mplot3d.Axes3D(fig)\n",
    "    ax.set_xlabel('$x$')\n",
    "    ax.set_ylabel('$y$')\n",
    "    ax.set_zlabel(label)\n",
    "    X, Y = numpy.meshgrid(x, y)\n",
    "    ax.plot_surface(X, Y, p, cmap=cm.viridis)\n",
    "    ax.set_xlim(x[0], x[-1])\n",
    "    ax.set_ylim(y[0], y[-1])\n",
    "    ax.view_init(elev=elev, azim=azim)\n"
   ]
  },
  {
   "cell_type": "code",
   "execution_count": null,
   "metadata": {},
   "outputs": [],
   "source": [
    "#On voit directement que les solutions de cette équations sont des exponentielles de forme C*exp(k*x) où C et k sont des constantes\n",
    "#on doit donc résoudre l'équation suivante :\n",
    "# C*(k**4)*exp(k*x) - 5*C*(k**2)*exp(k*x) + 4*C*exp(k*x) = 0\n",
    "#En simplifiant, on voit directement apparaitre une équation du second degré en k, en résolvant on trouve le spectre suivant pour k : \n",
    "# k = {-2, -1, 1, 2}. On a donc une solution générale pour notre équation : \n",
    "#f(x) = C[1]*exp(x) + C[2]*exp(-x) + C[3]*exp(2*x) + C[4]*exp(-2*x) où les C[i=1, 2, 3, 4] sont les constantes d'intégration qui seront discutées plus tard "
   ]
  },
  {
   "cell_type": "code",
   "execution_count": 4,
   "metadata": {},
   "outputs": [
    {
     "name": "stdout",
     "output_type": "stream",
     "text": [
      "[0. 0. 0. 0. 0. 0. 0. 0. 0. 0. 0. 0. 0. 0. 0. 0. 0. 0. 0. 0. 0. 0. 0. 0.\n",
      " 0. 0. 0. 0. 0. 0. 0. 0. 0. 0. 0. 0. 0. 0. 0. 0. 0. 0. 0. 0. 0. 0. 0. 0.\n",
      " 0. 0. 0. 0. 0. 0. 0. 0. 0. 0. 0. 0. 0. 0. 0. 0. 0. 0. 0. 0. 0. 0. 0. 0.\n",
      " 0. 0. 0. 0. 0. 0. 0. 0. 0. 0. 0. 0. 0. 0. 0. 0. 0. 0. 0. 0. 0. 0. 0. 0.\n",
      " 0. 0. 0. 0. 1.]\n"
     ]
    }
   ],
   "source": [
    "#On commence la discrétisation de notre domaine et la paramétrisation nécéssire à la suite du travail :\n",
    "#On définit notre abscisse :\n",
    "nx = 101  # nombre de points (entre x=0 et x=1)\n",
    "Lx = 1.0  # domaine de définition\n",
    "dx = Lx / (nx - 1)  #intervalle entre x[i] et x[i+1]\n",
    "\n",
    "#BC :\n",
    "a=0. #condition au bord (f(x = 0)\n",
    "b=0. #                  (f'(x=0))\n",
    "c=1. #                  (f(x=1))\n",
    "d=-1. #                 (f'(x=1))\n",
    "\n",
    "#On situe nos points sur la grille :\n",
    "x = numpy.linspace(0.0, Lx, num=nx)\n",
    "\n",
    "#Conditions initiales :\n",
    "p0 = numpy.zeros(nx)\n",
    "p0[-1] = c\n",
    "print(p0)"
   ]
  },
  {
   "cell_type": "code",
   "execution_count": 5,
   "metadata": {},
   "outputs": [],
   "source": [
    "#Les constantes d'intégration peuvent être déterminées en résolvant le système d'équation linéaire obtenu en appliquant les conditions aux bords\n",
    "#Ces dernières vont dépendre des paramètres a, b, c et d. On définit donc une fonction qui va résoudre ce système pour n'importe quels paramètres aux bords\n",
    "def resolvsyst (a,b,c,d):\n",
    "\n",
    "\n",
    "    A = ([1,1,1,1],[1,-1,2,-2],[(numpy.exp(1)),(numpy.exp(-1)),(numpy.exp(2)),(numpy.exp(-2))],[(numpy.exp(1)),(-numpy.exp(-1)),(2*numpy.exp(2)),(-2*numpy.exp(-2))])\n",
    "    A = numpy.array(A)\n",
    "    t = numpy.array([a,b,c,d])\n",
    "    y = numpy.linalg.solve(A,t)\n",
    "    return y"
   ]
  },
  {
   "cell_type": "code",
   "execution_count": 6,
   "metadata": {},
   "outputs": [],
   "source": [
    "#On résout ce système pour les paramètres donnés dans l'énoncé, et on obtient donc la solution exacte de l'équation pour ces paramètres aux bords\n",
    "C = resolvsyst(0,0,1,-1)\n",
    "pexact = C[0]*numpy.exp(x)+C[1]*numpy.exp(-x)+C[2]²*numpy.exp(2*x)+C[3]*numpy.exp(-2*x)"
   ]
  },
  {
   "cell_type": "code",
   "execution_count": 7,
   "metadata": {},
   "outputs": [
    {
     "data": {
      "text/plain": [
       "[<matplotlib.lines.Line2D at 0x1d8c1383a08>]"
      ]
     },
     "execution_count": 7,
     "metadata": {},
     "output_type": "execute_result"
    },
    {
     "data": {
      "image/png": "[encoded data removed]",
      "text/plain": [
       "<Figure size 432x288 with 1 Axes>"
      ]
     },
     "metadata": {
      "needs_background": "light"
     },
     "output_type": "display_data"
    }
   ],
   "source": [
    "#On affiche cette fonction :\n",
    "pyplot.plot(x,pexact)"
   ]
  },
  {
   "cell_type": "code",
   "execution_count": 8,
   "metadata": {},
   "outputs": [],
   "source": [
    "#On va maintenant s'intéresser aux méthodes de résolution numériques pour les équations différentielles. Pour Gauss-Seidel, on importe un outil augmentant la vitesse de calcul :\n",
    "import numba\n",
    "from numba import jit"
   ]
  },
  {
   "cell_type": "code",
   "execution_count": 9,
   "metadata": {},
   "outputs": [],
   "source": [
    "@jit(nopython=True)\n",
    "def laplace_2d_gauss_seidel(dx,p0, maxiter=20000, rtol=1e-6):\n",
    "    p = p0.copy()\n",
    "    beta = 6+10*dx**2+4*dx**4\n",
    "    gamma = -4-5*dx**2\n",
    "    conv = []  # convergence history\n",
    "    diff = rtol + 1.0  # initial difference\n",
    "    ite = 0  # iteration index\n",
    "    \n",
    "    while diff > rtol and ite < maxiter:\n",
    "        pn = p.copy()\n",
    "        # Update the solution at interior points.\n",
    "        for i in range(2,nx-2):\n",
    "            p[i] = (1/beta)*(-p[i-2]-gamma*p[i-1]-gamma*p[i+1]-p[i+2])\n",
    "        # Apply 2nd-order Neumann condition (zero-gradient)\n",
    "        # at the right boundary.\n",
    "                      \n",
    "        p[-2]= p[-1]+dx\n",
    "        p[1] = p[0]\n",
    "        diff = numpy.sqrt(numpy.sum((p - pn)**2) / numpy.sum(pn**2))\n",
    "        conv.append(diff)\n",
    "        ite += 1 \n",
    "    return p, ite, conv"
   ]
  },
  {
   "cell_type": "code",
   "execution_count": 10,
   "metadata": {},
   "outputs": [
    {
     "name": "stdout",
     "output_type": "stream",
     "text": [
      "Gauss-Seidel relaxation: 2531638 iterations to reach a relative difference of 9.99998581262672e-09\n"
     ]
    }
   ],
   "source": [
    "#Le code tourne jusqu'à ce que la différence relative entre deux valeures successives de la fonction soit suffisement petite (on peut changer cette valeur dans le code ci haut).\n",
    "#On veut ici savoir combien d'itérations ont été nécessaire pour arriver à une telle différence :\n",
    "p, ites, conv_gs = laplace_2d_gauss_seidel(dx,p0,\n",
    "                                           maxiter=20000000, rtol=1e-8)\n",
    "print('Gauss-Seidel relaxation: {} iterations '.format(ites) +\n",
    "      'to reach a relative difference of {}'.format(conv_gs[-1]))"
   ]
  },
  {
   "cell_type": "code",
   "execution_count": 11,
   "metadata": {},
   "outputs": [
    {
     "name": "stdout",
     "output_type": "stream",
     "text": [
      "1.0 1.01\n"
     ]
    },
    {
     "data": {
      "text/plain": [
       "[<matplotlib.lines.Line2D at 0x1d8c2debb48>]"
      ]
     },
     "execution_count": 11,
     "metadata": {},
     "output_type": "execute_result"
    },
    {
     "data": {
      "image/png": "[encoded data removed]",
      "text/plain": [
       "<Figure size 432x288 with 1 Axes>"
      ]
     },
     "metadata": {
      "needs_background": "light"
     },
     "output_type": "display_data"
    }
   ],
   "source": [
    "#Ici on compare graphiquement notre solution exacte (en orange) et la fonction obtenue par Gauss-Seidel (en bleu)\n",
    "#On voit qu'elles sont pratiquement confondues, on a donc très bien apprché la solution avec cette méthode\n",
    "print(p[-1],p[-2])\n",
    "pyplot.plot(x,p)\n",
    "pyplot.plot(x,pexact)"
   ]
  },
  {
   "cell_type": "code",
   "execution_count": 12,
   "metadata": {},
   "outputs": [],
   "source": [
    "#Pour la suite on va réécrire la norme L_2 (ne n'est absolument pas nécessaire mais c'est plus simple pour nous)\n",
    "def L2_rel_error(p, pk):\n",
    "    return numpy.sqrt(numpy.sum((p - pk)**2)/numpy.sum(pk**2))\n",
    "#On va maintenant tenter de résoudre avec la méthode du gradient conjugué :"
   ]
  },
  {
   "cell_type": "code",
   "execution_count": 17,
   "metadata": {},
   "outputs": [],
   "source": [
    "def conjugate_gradient(p0, dx,\n",
    "                       maxiter=20000, rtol=1e-7):\n",
    "    #On va définir l'opérateur différentiel qui agit sur notre fonction en utilisant la finite central difference :\n",
    "    def A(p):\n",
    "        return ((p[:-4] - 4 * p[1:-3] + 6 * p[2:-2] - 4 * p[3:-1]  + p[4:]) / dx**4) - (5 * (p[1:-3] - 2 * p[2:-2] + p[3:-1]) / dx**2) + 4 * p[2:-2]\n",
    "    p = p0.copy()\n",
    "    r = numpy.zeros_like(p)  # on règle le résidus initial\n",
    "    Ad = numpy.zeros_like(p)  # permet de multiplier les différentes quantités considérées\n",
    "    conv = []  # convergence \n",
    "    diff = rtol + 1  # difference initiale\n",
    "    ite = 0  # indexe d'itération. Comme pour Gauss, on veut connaitre le nombre d'itération décessaire à la résolution de notre équation\n",
    "    # On compute le résidus initial. Ici il n'y a pas de terme de sources, l'équation est homogène. Notre fonction conjugate_gradient ne dépendra donc pas du paramètre b (comme il est défini dans le cours)\n",
    "    r[2:-2] = - A(p)\n",
    "    # On règle la rechere de direction initiale pour être le résidus\n",
    "    d = r.copy()\n",
    "    # On va maintenant run notre code. Celui ci ne s'arrêtera pas tant que le nombre d'itérations max ne soit atteint ou que la différence relative entre deux points successifs soit suffisement petite\n",
    "    while diff > rtol and ite < maxiter:\n",
    "        pk = p.copy()\n",
    "        rk = r.copy()\n",
    "        # Compute the Laplacian of the search direction.\n",
    "        Ad[2:-2] = A(d)\n",
    "        # Compute the step size.\n",
    "        alpha = numpy.sum(r * r) / numpy.sum(d * Ad)\n",
    "        # Update the solution.\n",
    "        p = pk + alpha * d\n",
    "        # Update the residual.\n",
    "        r = rk - alpha * Ad\n",
    "        # Update the search direction.\n",
    "        beta = numpy.sum(r * r) / numpy.sum(rk * rk)\n",
    "        d = r + beta * d\n",
    "        # Dirichlet boundary conditions are automatically enforced.\n",
    "        # VN condtitions\n",
    "        p[-2]= p[-1]+dx\n",
    "        p[1] = p[0]\n",
    "        # Compute the relative L2-norm of the difference.\n",
    "        diff =  L2_rel_error(p, pk)\n",
    "        conv.append(diff)\n",
    "        ite += 1\n",
    "    return p, ite, conv"
   ]
  },
  {
   "cell_type": "code",
   "execution_count": 18,
   "metadata": {},
   "outputs": [
    {
     "name": "stdout",
     "output_type": "stream",
     "text": [
      "Method of conjugate gradients: 304 iterations to reach a relative difference of 9.988569942171603e-11\n"
     ]
    }
   ],
   "source": [
    "# Compute the solution using the method of conjugate gradients.\n",
    "p, ites, conv_cg = conjugate_gradient(p0, dx, \n",
    "                                      maxiter=20000, \n",
    "                                      rtol=1e-10)\n",
    "print('Method of conjugate gradients: {} iterations '.format(ites) +\n",
    "      'to reach a relative difference of {}'.format(conv_cg[-1]))"
   ]
  },
  {
   "cell_type": "code",
   "execution_count": 19,
   "metadata": {},
   "outputs": [
    {
     "data": {
      "text/plain": [
       "13.346526104853444"
      ]
     },
     "execution_count": 19,
     "metadata": {},
     "output_type": "execute_result"
    }
   ],
   "source": [
    "l2_norm(p, pexact)"
   ]
  },
  {
   "cell_type": "code",
   "execution_count": 20,
   "metadata": {},
   "outputs": [
    {
     "name": "stdout",
     "output_type": "stream",
     "text": [
      "1.0 1.01\n"
     ]
    },
    {
     "data": {
      "text/plain": [
       "[<matplotlib.lines.Line2D at 0x1d8c6f68848>]"
      ]
     },
     "execution_count": 20,
     "metadata": {},
     "output_type": "execute_result"
    },
    {
     "data": {
      "image/png": "[encoded data removed]",
      "text/plain": [
       "<Figure size 432x288 with 1 Axes>"
      ]
     },
     "metadata": {
      "needs_background": "light"
     },
     "output_type": "display_data"
    }
   ],
   "source": [
    "print(p[-1],p[-2])\n",
    "pyplot.plot(x,p)\n",
    "pyplot.plot(x,pexact)"
   ]
  },
  {
   "cell_type": "code",
   "execution_count": null,
   "metadata": {},
   "outputs": [],
   "source": []
  }
 ],
 "metadata": {
  "kernelspec": {
   "display_name": "Python 3",
   "language": "python",
   "name": "python3"
  },
  "language_info": {
   "codemirror_mode": {
    "name": "ipython",
    "version": 3
   },
   "file_extension": ".py",
   "mimetype": "text/x-python",
   "name": "python",
   "nbconvert_exporter": "python",
   "pygments_lexer": "ipython3",
   "version": "3.7.6"
  }
 },
 "nbformat": 4,
 "nbformat_minor": 4
}
